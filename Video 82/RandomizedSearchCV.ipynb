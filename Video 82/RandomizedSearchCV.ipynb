{
 "cells": [
  {
   "cell_type": "markdown",
   "id": "95a71d39",
   "metadata": {},
   "source": [
    "# <center style='color:green'>`RandomizedSearchCV` using Scikit-Learn</center>"
   ]
  },
  {
   "cell_type": "markdown",
   "id": "2fc738d9",
   "metadata": {},
   "source": [
    "# 1. Import required libraries"
   ]
  },
  {
   "cell_type": "code",
   "execution_count": 1,
   "id": "dd5cdabf",
   "metadata": {},
   "outputs": [],
   "source": [
    "import pandas as pd\n",
    "from sklearn.model_selection import RandomizedSearchCV\n",
    "from sklearn.ensemble import RandomForestClassifier\n",
    "from sklearn.neighbors import KNeighborsClassifier\n",
    "from sklearn.tree import DecisionTreeClassifier"
   ]
  },
  {
   "cell_type": "markdown",
   "id": "8cced8fe",
   "metadata": {},
   "source": [
    "# 2. Load `indian_liver_patient_dataset`"
   ]
  },
  {
   "cell_type": "code",
   "execution_count": 2,
   "id": "7c17554d",
   "metadata": {},
   "outputs": [
    {
     "data": {
      "text/html": [
       "<div>\n",
       "<style scoped>\n",
       "    .dataframe tbody tr th:only-of-type {\n",
       "        vertical-align: middle;\n",
       "    }\n",
       "\n",
       "    .dataframe tbody tr th {\n",
       "        vertical-align: top;\n",
       "    }\n",
       "\n",
       "    .dataframe thead th {\n",
       "        text-align: right;\n",
       "    }\n",
       "</style>\n",
       "<table border=\"1\" class=\"dataframe\">\n",
       "  <thead>\n",
       "    <tr style=\"text-align: right;\">\n",
       "      <th></th>\n",
       "      <th>Age</th>\n",
       "      <th>Gender</th>\n",
       "      <th>TB</th>\n",
       "      <th>DB</th>\n",
       "      <th>Alkphos</th>\n",
       "      <th>Sgpt</th>\n",
       "      <th>Sgot</th>\n",
       "      <th>TP</th>\n",
       "      <th>ALB</th>\n",
       "      <th>A/G Ratio</th>\n",
       "      <th>Selector</th>\n",
       "    </tr>\n",
       "  </thead>\n",
       "  <tbody>\n",
       "    <tr>\n",
       "      <th>0</th>\n",
       "      <td>65</td>\n",
       "      <td>Female</td>\n",
       "      <td>0.7</td>\n",
       "      <td>0.1</td>\n",
       "      <td>187</td>\n",
       "      <td>16</td>\n",
       "      <td>18</td>\n",
       "      <td>6.8</td>\n",
       "      <td>3.3</td>\n",
       "      <td>0.90</td>\n",
       "      <td>1</td>\n",
       "    </tr>\n",
       "    <tr>\n",
       "      <th>1</th>\n",
       "      <td>62</td>\n",
       "      <td>Male</td>\n",
       "      <td>10.9</td>\n",
       "      <td>5.5</td>\n",
       "      <td>699</td>\n",
       "      <td>64</td>\n",
       "      <td>100</td>\n",
       "      <td>7.5</td>\n",
       "      <td>3.2</td>\n",
       "      <td>0.74</td>\n",
       "      <td>1</td>\n",
       "    </tr>\n",
       "    <tr>\n",
       "      <th>2</th>\n",
       "      <td>62</td>\n",
       "      <td>Male</td>\n",
       "      <td>7.3</td>\n",
       "      <td>4.1</td>\n",
       "      <td>490</td>\n",
       "      <td>60</td>\n",
       "      <td>68</td>\n",
       "      <td>7.0</td>\n",
       "      <td>3.3</td>\n",
       "      <td>0.89</td>\n",
       "      <td>1</td>\n",
       "    </tr>\n",
       "    <tr>\n",
       "      <th>3</th>\n",
       "      <td>58</td>\n",
       "      <td>Male</td>\n",
       "      <td>1.0</td>\n",
       "      <td>0.4</td>\n",
       "      <td>182</td>\n",
       "      <td>14</td>\n",
       "      <td>20</td>\n",
       "      <td>6.8</td>\n",
       "      <td>3.4</td>\n",
       "      <td>1.00</td>\n",
       "      <td>1</td>\n",
       "    </tr>\n",
       "    <tr>\n",
       "      <th>4</th>\n",
       "      <td>72</td>\n",
       "      <td>Male</td>\n",
       "      <td>3.9</td>\n",
       "      <td>2.0</td>\n",
       "      <td>195</td>\n",
       "      <td>27</td>\n",
       "      <td>59</td>\n",
       "      <td>7.3</td>\n",
       "      <td>2.4</td>\n",
       "      <td>0.40</td>\n",
       "      <td>1</td>\n",
       "    </tr>\n",
       "  </tbody>\n",
       "</table>\n",
       "</div>"
      ],
      "text/plain": [
       "   Age  Gender    TB   DB  Alkphos  Sgpt  Sgot   TP  ALB  A/G Ratio  Selector\n",
       "0   65  Female   0.7  0.1      187    16    18  6.8  3.3       0.90         1\n",
       "1   62    Male  10.9  5.5      699    64   100  7.5  3.2       0.74         1\n",
       "2   62    Male   7.3  4.1      490    60    68  7.0  3.3       0.89         1\n",
       "3   58    Male   1.0  0.4      182    14    20  6.8  3.4       1.00         1\n",
       "4   72    Male   3.9  2.0      195    27    59  7.3  2.4       0.40         1"
      ]
     },
     "execution_count": 2,
     "metadata": {},
     "output_type": "execute_result"
    }
   ],
   "source": [
    "df = pd.read_csv('indian_liver_patient_dataset.csv')\n",
    "df.head()"
   ]
  },
  {
   "cell_type": "code",
   "execution_count": 3,
   "id": "aad8a757",
   "metadata": {},
   "outputs": [
    {
     "data": {
      "text/plain": [
       "(583, 11)"
      ]
     },
     "execution_count": 3,
     "metadata": {},
     "output_type": "execute_result"
    }
   ],
   "source": [
    "df.shape"
   ]
  },
  {
   "cell_type": "code",
   "execution_count": 4,
   "id": "ec79c884",
   "metadata": {},
   "outputs": [
    {
     "name": "stdout",
     "output_type": "stream",
     "text": [
      "<class 'pandas.core.frame.DataFrame'>\n",
      "RangeIndex: 583 entries, 0 to 582\n",
      "Data columns (total 11 columns):\n",
      " #   Column     Non-Null Count  Dtype  \n",
      "---  ------     --------------  -----  \n",
      " 0   Age        583 non-null    int64  \n",
      " 1   Gender     583 non-null    object \n",
      " 2   TB         583 non-null    float64\n",
      " 3   DB         583 non-null    float64\n",
      " 4   Alkphos    583 non-null    int64  \n",
      " 5   Sgpt       583 non-null    int64  \n",
      " 6   Sgot       583 non-null    int64  \n",
      " 7   TP         583 non-null    float64\n",
      " 8   ALB        583 non-null    float64\n",
      " 9   A/G Ratio  579 non-null    float64\n",
      " 10  Selector   583 non-null    int64  \n",
      "dtypes: float64(5), int64(5), object(1)\n",
      "memory usage: 50.2+ KB\n"
     ]
    }
   ],
   "source": [
    "df.info()"
   ]
  },
  {
   "cell_type": "code",
   "execution_count": 5,
   "id": "ab0cc766",
   "metadata": {},
   "outputs": [
    {
     "data": {
      "text/plain": [
       "(array([1, 2]),\n",
       " 1    416\n",
       " 2    167\n",
       " Name: Selector, dtype: int64)"
      ]
     },
     "execution_count": 5,
     "metadata": {},
     "output_type": "execute_result"
    }
   ],
   "source": [
    "df.Selector.unique(), df.Selector.value_counts()"
   ]
  },
  {
   "cell_type": "markdown",
   "id": "f78a367a",
   "metadata": {},
   "source": [
    "# 3. Drop null values"
   ]
  },
  {
   "cell_type": "code",
   "execution_count": 6,
   "id": "054554fb",
   "metadata": {},
   "outputs": [
    {
     "data": {
      "text/plain": [
       "(579, 11)"
      ]
     },
     "execution_count": 6,
     "metadata": {},
     "output_type": "execute_result"
    }
   ],
   "source": [
    "df = df.dropna()\n",
    "df.shape"
   ]
  },
  {
   "cell_type": "markdown",
   "id": "d4d52cac",
   "metadata": {},
   "source": [
    "# 4. Perform preprocessing"
   ]
  },
  {
   "cell_type": "code",
   "execution_count": 7,
   "id": "69c28c86",
   "metadata": {},
   "outputs": [
    {
     "data": {
      "text/html": [
       "<div>\n",
       "<style scoped>\n",
       "    .dataframe tbody tr th:only-of-type {\n",
       "        vertical-align: middle;\n",
       "    }\n",
       "\n",
       "    .dataframe tbody tr th {\n",
       "        vertical-align: top;\n",
       "    }\n",
       "\n",
       "    .dataframe thead th {\n",
       "        text-align: right;\n",
       "    }\n",
       "</style>\n",
       "<table border=\"1\" class=\"dataframe\">\n",
       "  <thead>\n",
       "    <tr style=\"text-align: right;\">\n",
       "      <th></th>\n",
       "      <th>Age</th>\n",
       "      <th>Gender</th>\n",
       "      <th>TB</th>\n",
       "      <th>DB</th>\n",
       "      <th>Alkphos</th>\n",
       "      <th>Sgpt</th>\n",
       "      <th>Sgot</th>\n",
       "      <th>TP</th>\n",
       "      <th>ALB</th>\n",
       "      <th>A/G Ratio</th>\n",
       "      <th>Selector</th>\n",
       "    </tr>\n",
       "  </thead>\n",
       "  <tbody>\n",
       "    <tr>\n",
       "      <th>0</th>\n",
       "      <td>65</td>\n",
       "      <td>1</td>\n",
       "      <td>0.7</td>\n",
       "      <td>0.1</td>\n",
       "      <td>187</td>\n",
       "      <td>16</td>\n",
       "      <td>18</td>\n",
       "      <td>6.8</td>\n",
       "      <td>3.3</td>\n",
       "      <td>0.90</td>\n",
       "      <td>1</td>\n",
       "    </tr>\n",
       "    <tr>\n",
       "      <th>1</th>\n",
       "      <td>62</td>\n",
       "      <td>0</td>\n",
       "      <td>10.9</td>\n",
       "      <td>5.5</td>\n",
       "      <td>699</td>\n",
       "      <td>64</td>\n",
       "      <td>100</td>\n",
       "      <td>7.5</td>\n",
       "      <td>3.2</td>\n",
       "      <td>0.74</td>\n",
       "      <td>1</td>\n",
       "    </tr>\n",
       "    <tr>\n",
       "      <th>2</th>\n",
       "      <td>62</td>\n",
       "      <td>0</td>\n",
       "      <td>7.3</td>\n",
       "      <td>4.1</td>\n",
       "      <td>490</td>\n",
       "      <td>60</td>\n",
       "      <td>68</td>\n",
       "      <td>7.0</td>\n",
       "      <td>3.3</td>\n",
       "      <td>0.89</td>\n",
       "      <td>1</td>\n",
       "    </tr>\n",
       "    <tr>\n",
       "      <th>3</th>\n",
       "      <td>58</td>\n",
       "      <td>0</td>\n",
       "      <td>1.0</td>\n",
       "      <td>0.4</td>\n",
       "      <td>182</td>\n",
       "      <td>14</td>\n",
       "      <td>20</td>\n",
       "      <td>6.8</td>\n",
       "      <td>3.4</td>\n",
       "      <td>1.00</td>\n",
       "      <td>1</td>\n",
       "    </tr>\n",
       "    <tr>\n",
       "      <th>4</th>\n",
       "      <td>72</td>\n",
       "      <td>0</td>\n",
       "      <td>3.9</td>\n",
       "      <td>2.0</td>\n",
       "      <td>195</td>\n",
       "      <td>27</td>\n",
       "      <td>59</td>\n",
       "      <td>7.3</td>\n",
       "      <td>2.4</td>\n",
       "      <td>0.40</td>\n",
       "      <td>1</td>\n",
       "    </tr>\n",
       "  </tbody>\n",
       "</table>\n",
       "</div>"
      ],
      "text/plain": [
       "   Age  Gender    TB   DB  Alkphos  Sgpt  Sgot   TP  ALB  A/G Ratio  Selector\n",
       "0   65       1   0.7  0.1      187    16    18  6.8  3.3       0.90         1\n",
       "1   62       0  10.9  5.5      699    64   100  7.5  3.2       0.74         1\n",
       "2   62       0   7.3  4.1      490    60    68  7.0  3.3       0.89         1\n",
       "3   58       0   1.0  0.4      182    14    20  6.8  3.4       1.00         1\n",
       "4   72       0   3.9  2.0      195    27    59  7.3  2.4       0.40         1"
      ]
     },
     "execution_count": 7,
     "metadata": {},
     "output_type": "execute_result"
    }
   ],
   "source": [
    "df.Gender = df.Gender.apply(lambda x: 1 if x == 'Female' else 0)\n",
    "df.head()"
   ]
  },
  {
   "cell_type": "markdown",
   "id": "5a271654",
   "metadata": {},
   "source": [
    "# 5. Separate features and classes"
   ]
  },
  {
   "cell_type": "code",
   "execution_count": 8,
   "id": "331e3d89",
   "metadata": {},
   "outputs": [],
   "source": [
    "X = df.iloc[:, :-1]\n",
    "y = df.iloc[:, -1]"
   ]
  },
  {
   "cell_type": "markdown",
   "id": "2d9235c5",
   "metadata": {},
   "source": [
    "# 6. Apply `RandomizedSearchCV` in `Random Forest Classifier`"
   ]
  },
  {
   "cell_type": "code",
   "execution_count": 9,
   "id": "b7ef2d25",
   "metadata": {},
   "outputs": [
    {
     "data": {
      "text/plain": [
       "{'mean_fit_time': array([0.00922832, 0.0042872 , 0.00231977, 0.00235291, 0.00230284,\n",
       "        0.00715675, 0.00439348, 0.00761023, 0.00241609, 0.00247269,\n",
       "        0.00398612, 0.0041687 , 0.00718241, 0.00691438, 0.00243516]),\n",
       " 'std_fit_time': array([2.66602631e-03, 4.31555806e-05, 2.74156072e-05, 1.53378584e-05,\n",
       "        4.73709338e-05, 1.45595150e-04, 3.40748781e-05, 5.61916933e-05,\n",
       "        7.05933860e-05, 1.42836123e-04, 8.05276178e-06, 3.77658040e-05,\n",
       "        6.72701137e-05, 8.59672731e-05, 2.98217329e-05]),\n",
       " 'mean_score_time': array([0.00125208, 0.00097113, 0.00089698, 0.00089707, 0.00089769,\n",
       "        0.00107579, 0.00096707, 0.00107017, 0.00090938, 0.00088973,\n",
       "        0.00096006, 0.00094738, 0.00106554, 0.00102844, 0.00090079]),\n",
       " 'std_score_time': array([3.02472532e-04, 1.51679194e-05, 3.06958712e-06, 5.88966280e-06,\n",
       "        3.01352030e-06, 1.24127957e-05, 8.52912268e-06, 4.79357733e-06,\n",
       "        1.57156731e-05, 4.06683675e-06, 1.49200510e-05, 5.75098034e-06,\n",
       "        2.11085421e-05, 1.49863478e-05, 1.78717905e-05]),\n",
       " 'param_n_estimators': masked_array(data=[10, 5, 2, 2, 2, 10, 5, 10, 2, 2, 5, 5, 10, 10, 2],\n",
       "              mask=[False, False, False, False, False, False, False, False,\n",
       "                    False, False, False, False, False, False, False],\n",
       "        fill_value=999999),\n",
       " 'param_max_depth': masked_array(data=[5, 4, 3, 4, 3, 3, 5, 5, 4, 5, 3, 4, 4, 3, 5],\n",
       "              mask=[False, False, False, False, False, False, False, False,\n",
       "                    False, False, False, False, False, False, False],\n",
       "        fill_value=999999),\n",
       " 'param_criterion': masked_array(data=['gini', 'entropy', 'entropy', 'log_loss', 'gini',\n",
       "                    'entropy', 'entropy', 'entropy', 'entropy', 'log_loss',\n",
       "                    'gini', 'gini', 'gini', 'gini', 'entropy'],\n",
       "              mask=[False, False, False, False, False, False, False, False,\n",
       "                    False, False, False, False, False, False, False],\n",
       "        fill_value='?',\n",
       "             dtype=object),\n",
       " 'params': [{'n_estimators': 10, 'max_depth': 5, 'criterion': 'gini'},\n",
       "  {'n_estimators': 5, 'max_depth': 4, 'criterion': 'entropy'},\n",
       "  {'n_estimators': 2, 'max_depth': 3, 'criterion': 'entropy'},\n",
       "  {'n_estimators': 2, 'max_depth': 4, 'criterion': 'log_loss'},\n",
       "  {'n_estimators': 2, 'max_depth': 3, 'criterion': 'gini'},\n",
       "  {'n_estimators': 10, 'max_depth': 3, 'criterion': 'entropy'},\n",
       "  {'n_estimators': 5, 'max_depth': 5, 'criterion': 'entropy'},\n",
       "  {'n_estimators': 10, 'max_depth': 5, 'criterion': 'entropy'},\n",
       "  {'n_estimators': 2, 'max_depth': 4, 'criterion': 'entropy'},\n",
       "  {'n_estimators': 2, 'max_depth': 5, 'criterion': 'log_loss'},\n",
       "  {'n_estimators': 5, 'max_depth': 3, 'criterion': 'gini'},\n",
       "  {'n_estimators': 5, 'max_depth': 4, 'criterion': 'gini'},\n",
       "  {'n_estimators': 10, 'max_depth': 4, 'criterion': 'gini'},\n",
       "  {'n_estimators': 10, 'max_depth': 3, 'criterion': 'gini'},\n",
       "  {'n_estimators': 2, 'max_depth': 5, 'criterion': 'entropy'}],\n",
       " 'split0_test_score': array([0.68965517, 0.68965517, 0.68965517, 0.68965517, 0.68965517,\n",
       "        0.72413793, 0.68103448, 0.69827586, 0.68965517, 0.62068966,\n",
       "        0.73275862, 0.67241379, 0.72413793, 0.72413793, 0.62068966]),\n",
       " 'split1_test_score': array([0.68965517, 0.70689655, 0.71551724, 0.68103448, 0.70689655,\n",
       "        0.72413793, 0.68965517, 0.70689655, 0.68103448, 0.65517241,\n",
       "        0.71551724, 0.72413793, 0.74137931, 0.72413793, 0.65517241]),\n",
       " 'split2_test_score': array([0.72413793, 0.68965517, 0.70689655, 0.62931034, 0.67241379,\n",
       "        0.70689655, 0.69827586, 0.67241379, 0.62931034, 0.61206897,\n",
       "        0.70689655, 0.68103448, 0.74137931, 0.73275862, 0.61206897]),\n",
       " 'split3_test_score': array([0.63793103, 0.67241379, 0.61206897, 0.6637931 , 0.62068966,\n",
       "        0.68103448, 0.57758621, 0.6637931 , 0.6637931 , 0.68103448,\n",
       "        0.5862069 , 0.64655172, 0.63793103, 0.68965517, 0.68103448]),\n",
       " 'split4_test_score': array([0.74782609, 0.73913043, 0.71304348, 0.72173913, 0.71304348,\n",
       "        0.73043478, 0.73043478, 0.73913043, 0.72173913, 0.67826087,\n",
       "        0.71304348, 0.68695652, 0.73043478, 0.72173913, 0.67826087]),\n",
       " 'mean_test_score': array([0.69784108, 0.69955022, 0.68743628, 0.67710645, 0.68053973,\n",
       "        0.71332834, 0.6753973 , 0.69610195, 0.67710645, 0.64944528,\n",
       "        0.69088456, 0.68221889, 0.71505247, 0.71848576, 0.64944528]),\n",
       " 'std_test_score': array([0.03718402, 0.02259545, 0.03875081, 0.03041937, 0.03311293,\n",
       "        0.01794762, 0.051681  , 0.02674954, 0.03041937, 0.02858283,\n",
       "        0.05303776, 0.02509717, 0.03912309, 0.01489561, 0.02858283]),\n",
       " 'rank_test_score': array([ 5,  4,  8, 11, 10,  3, 13,  6, 11, 14,  7,  9,  2,  1, 14],\n",
       "       dtype=int32)}"
      ]
     },
     "execution_count": 9,
     "metadata": {},
     "output_type": "execute_result"
    }
   ],
   "source": [
    "rf = RandomizedSearchCV(estimator=RandomForestClassifier(random_state=42), param_distributions={\n",
    "    'n_estimators': [2, 5, 10],\n",
    "    'criterion': ['gini', 'entropy', 'log_loss'],\n",
    "    'max_depth': [3, 4, 5]\n",
    "}, n_iter=15, cv=5, random_state=42)\n",
    "rf.fit(X, y)\n",
    "rf.cv_results_"
   ]
  },
  {
   "cell_type": "code",
   "execution_count": 10,
   "id": "19cf6996",
   "metadata": {},
   "outputs": [
    {
     "data": {
      "text/html": [
       "<div>\n",
       "<style scoped>\n",
       "    .dataframe tbody tr th:only-of-type {\n",
       "        vertical-align: middle;\n",
       "    }\n",
       "\n",
       "    .dataframe tbody tr th {\n",
       "        vertical-align: top;\n",
       "    }\n",
       "\n",
       "    .dataframe thead th {\n",
       "        text-align: right;\n",
       "    }\n",
       "</style>\n",
       "<table border=\"1\" class=\"dataframe\">\n",
       "  <thead>\n",
       "    <tr style=\"text-align: right;\">\n",
       "      <th></th>\n",
       "      <th>param_n_estimators</th>\n",
       "      <th>param_criterion</th>\n",
       "      <th>param_max_depth</th>\n",
       "      <th>mean_test_score</th>\n",
       "      <th>rank_test_score</th>\n",
       "    </tr>\n",
       "  </thead>\n",
       "  <tbody>\n",
       "    <tr>\n",
       "      <th>0</th>\n",
       "      <td>10</td>\n",
       "      <td>gini</td>\n",
       "      <td>5</td>\n",
       "      <td>0.697841</td>\n",
       "      <td>5</td>\n",
       "    </tr>\n",
       "    <tr>\n",
       "      <th>1</th>\n",
       "      <td>5</td>\n",
       "      <td>entropy</td>\n",
       "      <td>4</td>\n",
       "      <td>0.699550</td>\n",
       "      <td>4</td>\n",
       "    </tr>\n",
       "    <tr>\n",
       "      <th>2</th>\n",
       "      <td>2</td>\n",
       "      <td>entropy</td>\n",
       "      <td>3</td>\n",
       "      <td>0.687436</td>\n",
       "      <td>8</td>\n",
       "    </tr>\n",
       "    <tr>\n",
       "      <th>3</th>\n",
       "      <td>2</td>\n",
       "      <td>log_loss</td>\n",
       "      <td>4</td>\n",
       "      <td>0.677106</td>\n",
       "      <td>11</td>\n",
       "    </tr>\n",
       "    <tr>\n",
       "      <th>4</th>\n",
       "      <td>2</td>\n",
       "      <td>gini</td>\n",
       "      <td>3</td>\n",
       "      <td>0.680540</td>\n",
       "      <td>10</td>\n",
       "    </tr>\n",
       "    <tr>\n",
       "      <th>5</th>\n",
       "      <td>10</td>\n",
       "      <td>entropy</td>\n",
       "      <td>3</td>\n",
       "      <td>0.713328</td>\n",
       "      <td>3</td>\n",
       "    </tr>\n",
       "    <tr>\n",
       "      <th>6</th>\n",
       "      <td>5</td>\n",
       "      <td>entropy</td>\n",
       "      <td>5</td>\n",
       "      <td>0.675397</td>\n",
       "      <td>13</td>\n",
       "    </tr>\n",
       "    <tr>\n",
       "      <th>7</th>\n",
       "      <td>10</td>\n",
       "      <td>entropy</td>\n",
       "      <td>5</td>\n",
       "      <td>0.696102</td>\n",
       "      <td>6</td>\n",
       "    </tr>\n",
       "    <tr>\n",
       "      <th>8</th>\n",
       "      <td>2</td>\n",
       "      <td>entropy</td>\n",
       "      <td>4</td>\n",
       "      <td>0.677106</td>\n",
       "      <td>11</td>\n",
       "    </tr>\n",
       "    <tr>\n",
       "      <th>9</th>\n",
       "      <td>2</td>\n",
       "      <td>log_loss</td>\n",
       "      <td>5</td>\n",
       "      <td>0.649445</td>\n",
       "      <td>14</td>\n",
       "    </tr>\n",
       "    <tr>\n",
       "      <th>10</th>\n",
       "      <td>5</td>\n",
       "      <td>gini</td>\n",
       "      <td>3</td>\n",
       "      <td>0.690885</td>\n",
       "      <td>7</td>\n",
       "    </tr>\n",
       "    <tr>\n",
       "      <th>11</th>\n",
       "      <td>5</td>\n",
       "      <td>gini</td>\n",
       "      <td>4</td>\n",
       "      <td>0.682219</td>\n",
       "      <td>9</td>\n",
       "    </tr>\n",
       "    <tr>\n",
       "      <th>12</th>\n",
       "      <td>10</td>\n",
       "      <td>gini</td>\n",
       "      <td>4</td>\n",
       "      <td>0.715052</td>\n",
       "      <td>2</td>\n",
       "    </tr>\n",
       "    <tr>\n",
       "      <th>13</th>\n",
       "      <td>10</td>\n",
       "      <td>gini</td>\n",
       "      <td>3</td>\n",
       "      <td>0.718486</td>\n",
       "      <td>1</td>\n",
       "    </tr>\n",
       "    <tr>\n",
       "      <th>14</th>\n",
       "      <td>2</td>\n",
       "      <td>entropy</td>\n",
       "      <td>5</td>\n",
       "      <td>0.649445</td>\n",
       "      <td>14</td>\n",
       "    </tr>\n",
       "  </tbody>\n",
       "</table>\n",
       "</div>"
      ],
      "text/plain": [
       "    param_n_estimators param_criterion  param_max_depth  mean_test_score  \\\n",
       "0                   10            gini                5         0.697841   \n",
       "1                    5         entropy                4         0.699550   \n",
       "2                    2         entropy                3         0.687436   \n",
       "3                    2        log_loss                4         0.677106   \n",
       "4                    2            gini                3         0.680540   \n",
       "5                   10         entropy                3         0.713328   \n",
       "6                    5         entropy                5         0.675397   \n",
       "7                   10         entropy                5         0.696102   \n",
       "8                    2         entropy                4         0.677106   \n",
       "9                    2        log_loss                5         0.649445   \n",
       "10                   5            gini                3         0.690885   \n",
       "11                   5            gini                4         0.682219   \n",
       "12                  10            gini                4         0.715052   \n",
       "13                  10            gini                3         0.718486   \n",
       "14                   2         entropy                5         0.649445   \n",
       "\n",
       "    rank_test_score  \n",
       "0                 5  \n",
       "1                 4  \n",
       "2                 8  \n",
       "3                11  \n",
       "4                10  \n",
       "5                 3  \n",
       "6                13  \n",
       "7                 6  \n",
       "8                11  \n",
       "9                14  \n",
       "10                7  \n",
       "11                9  \n",
       "12                2  \n",
       "13                1  \n",
       "14               14  "
      ]
     },
     "execution_count": 10,
     "metadata": {},
     "output_type": "execute_result"
    }
   ],
   "source": [
    "rf_results = pd.DataFrame(rf.cv_results_)\n",
    "rf_results[['param_n_estimators', 'param_criterion', 'param_max_depth', 'mean_test_score', 'rank_test_score']]"
   ]
  },
  {
   "cell_type": "code",
   "execution_count": 11,
   "id": "1fa8508a",
   "metadata": {},
   "outputs": [
    {
     "data": {
      "text/plain": [
       "({'n_estimators': 10, 'max_depth': 3, 'criterion': 'gini'}, 0.7184857571214393)"
      ]
     },
     "execution_count": 11,
     "metadata": {},
     "output_type": "execute_result"
    }
   ],
   "source": [
    "rf.best_params_, rf.best_score_"
   ]
  },
  {
   "cell_type": "markdown",
   "id": "eae85872",
   "metadata": {},
   "source": [
    "# 6. Apply `RandomizedSearchCV` in `K Neighbors Classifier`"
   ]
  },
  {
   "cell_type": "code",
   "execution_count": 12,
   "id": "b24eec05",
   "metadata": {},
   "outputs": [
    {
     "data": {
      "text/plain": [
       "{'mean_fit_time': array([0.0020164 , 0.00098567, 0.00099592, 0.00098882, 0.00096936,\n",
       "        0.00096965, 0.00096922, 0.00096841]),\n",
       " 'std_fit_time': array([1.94729285e-03, 2.02672060e-05, 2.42200421e-05, 2.53472030e-05,\n",
       "        2.38132305e-06, 5.59953836e-06, 7.25889630e-06, 2.38609238e-06]),\n",
       " 'mean_score_time': array([0.00402851, 0.00117178, 0.00379529, 0.00123234, 0.00116801,\n",
       "        0.00121808, 0.00380607, 0.00123186]),\n",
       " 'std_score_time': array([2.43825467e-04, 2.16220283e-05, 8.95694655e-05, 1.98248453e-05,\n",
       "        1.58701550e-05, 1.10858230e-05, 1.51791581e-05, 9.67803244e-06]),\n",
       " 'param_weights': masked_array(data=['uniform', 'distance', 'uniform', 'distance',\n",
       "                    'distance', 'distance', 'uniform', 'distance'],\n",
       "              mask=[False, False, False, False, False, False, False, False],\n",
       "        fill_value='?',\n",
       "             dtype=object),\n",
       " 'param_n_neighbors': masked_array(data=[3, 3, 4, 5, 4, 3, 5, 4],\n",
       "              mask=[False, False, False, False, False, False, False, False],\n",
       "        fill_value=999999),\n",
       " 'param_metric': masked_array(data=['minkowski', 'minkowski', 'euclidean', 'minkowski',\n",
       "                    'minkowski', 'manhattan', 'manhattan', 'manhattan'],\n",
       "              mask=[False, False, False, False, False, False, False, False],\n",
       "        fill_value='?',\n",
       "             dtype=object),\n",
       " 'params': [{'weights': 'uniform', 'n_neighbors': 3, 'metric': 'minkowski'},\n",
       "  {'weights': 'distance', 'n_neighbors': 3, 'metric': 'minkowski'},\n",
       "  {'weights': 'uniform', 'n_neighbors': 4, 'metric': 'euclidean'},\n",
       "  {'weights': 'distance', 'n_neighbors': 5, 'metric': 'minkowski'},\n",
       "  {'weights': 'distance', 'n_neighbors': 4, 'metric': 'minkowski'},\n",
       "  {'weights': 'distance', 'n_neighbors': 3, 'metric': 'manhattan'},\n",
       "  {'weights': 'uniform', 'n_neighbors': 5, 'metric': 'manhattan'},\n",
       "  {'weights': 'distance', 'n_neighbors': 4, 'metric': 'manhattan'}],\n",
       " 'split0_test_score': array([0.6637931 , 0.65517241, 0.72413793, 0.68965517, 0.69827586,\n",
       "        0.63793103, 0.68965517, 0.6637931 ]),\n",
       " 'split1_test_score': array([0.65517241, 0.6637931 , 0.69827586, 0.65517241, 0.68103448,\n",
       "        0.6637931 , 0.6637931 , 0.65517241]),\n",
       " 'split2_test_score': array([0.62931034, 0.61206897, 0.67241379, 0.65517241, 0.63793103,\n",
       "        0.62931034, 0.59482759, 0.60344828]),\n",
       " 'split3_test_score': array([0.56896552, 0.56896552, 0.65517241, 0.57758621, 0.56896552,\n",
       "        0.56896552, 0.54310345, 0.56896552]),\n",
       " 'split4_test_score': array([0.72173913, 0.71304348, 0.75652174, 0.72173913, 0.73913043,\n",
       "        0.76521739, 0.73913043, 0.71304348]),\n",
       " 'mean_test_score': array([0.6477961 , 0.6426087 , 0.70130435, 0.65986507, 0.66506747,\n",
       "        0.65304348, 0.64610195, 0.64088456]),\n",
       " 'std_test_score': array([0.04966663, 0.04883375, 0.03617271, 0.04802021, 0.05799144,\n",
       "        0.06412377, 0.06942897, 0.05001935]),\n",
       " 'rank_test_score': array([5, 7, 1, 3, 2, 4, 6, 8], dtype=int32)}"
      ]
     },
     "execution_count": 12,
     "metadata": {},
     "output_type": "execute_result"
    }
   ],
   "source": [
    "knn = RandomizedSearchCV(estimator=KNeighborsClassifier(), param_distributions={\n",
    "    'n_neighbors': [3, 4, 5],\n",
    "    'weights': ['uniform', 'distance'],\n",
    "    'metric': ['minkowski', 'euclidean', 'manhattan']\n",
    "}, n_iter=8, cv=5, random_state=42)\n",
    "knn.fit(X, y)\n",
    "knn.cv_results_"
   ]
  },
  {
   "cell_type": "code",
   "execution_count": 13,
   "id": "4bb56c3e",
   "metadata": {},
   "outputs": [
    {
     "data": {
      "text/html": [
       "<div>\n",
       "<style scoped>\n",
       "    .dataframe tbody tr th:only-of-type {\n",
       "        vertical-align: middle;\n",
       "    }\n",
       "\n",
       "    .dataframe tbody tr th {\n",
       "        vertical-align: top;\n",
       "    }\n",
       "\n",
       "    .dataframe thead th {\n",
       "        text-align: right;\n",
       "    }\n",
       "</style>\n",
       "<table border=\"1\" class=\"dataframe\">\n",
       "  <thead>\n",
       "    <tr style=\"text-align: right;\">\n",
       "      <th></th>\n",
       "      <th>param_n_neighbors</th>\n",
       "      <th>param_weights</th>\n",
       "      <th>param_metric</th>\n",
       "      <th>mean_test_score</th>\n",
       "      <th>rank_test_score</th>\n",
       "    </tr>\n",
       "  </thead>\n",
       "  <tbody>\n",
       "    <tr>\n",
       "      <th>0</th>\n",
       "      <td>3</td>\n",
       "      <td>uniform</td>\n",
       "      <td>minkowski</td>\n",
       "      <td>0.647796</td>\n",
       "      <td>5</td>\n",
       "    </tr>\n",
       "    <tr>\n",
       "      <th>1</th>\n",
       "      <td>3</td>\n",
       "      <td>distance</td>\n",
       "      <td>minkowski</td>\n",
       "      <td>0.642609</td>\n",
       "      <td>7</td>\n",
       "    </tr>\n",
       "    <tr>\n",
       "      <th>2</th>\n",
       "      <td>4</td>\n",
       "      <td>uniform</td>\n",
       "      <td>euclidean</td>\n",
       "      <td>0.701304</td>\n",
       "      <td>1</td>\n",
       "    </tr>\n",
       "    <tr>\n",
       "      <th>3</th>\n",
       "      <td>5</td>\n",
       "      <td>distance</td>\n",
       "      <td>minkowski</td>\n",
       "      <td>0.659865</td>\n",
       "      <td>3</td>\n",
       "    </tr>\n",
       "    <tr>\n",
       "      <th>4</th>\n",
       "      <td>4</td>\n",
       "      <td>distance</td>\n",
       "      <td>minkowski</td>\n",
       "      <td>0.665067</td>\n",
       "      <td>2</td>\n",
       "    </tr>\n",
       "    <tr>\n",
       "      <th>5</th>\n",
       "      <td>3</td>\n",
       "      <td>distance</td>\n",
       "      <td>manhattan</td>\n",
       "      <td>0.653043</td>\n",
       "      <td>4</td>\n",
       "    </tr>\n",
       "    <tr>\n",
       "      <th>6</th>\n",
       "      <td>5</td>\n",
       "      <td>uniform</td>\n",
       "      <td>manhattan</td>\n",
       "      <td>0.646102</td>\n",
       "      <td>6</td>\n",
       "    </tr>\n",
       "    <tr>\n",
       "      <th>7</th>\n",
       "      <td>4</td>\n",
       "      <td>distance</td>\n",
       "      <td>manhattan</td>\n",
       "      <td>0.640885</td>\n",
       "      <td>8</td>\n",
       "    </tr>\n",
       "  </tbody>\n",
       "</table>\n",
       "</div>"
      ],
      "text/plain": [
       "   param_n_neighbors param_weights param_metric  mean_test_score  \\\n",
       "0                  3       uniform    minkowski         0.647796   \n",
       "1                  3      distance    minkowski         0.642609   \n",
       "2                  4       uniform    euclidean         0.701304   \n",
       "3                  5      distance    minkowski         0.659865   \n",
       "4                  4      distance    minkowski         0.665067   \n",
       "5                  3      distance    manhattan         0.653043   \n",
       "6                  5       uniform    manhattan         0.646102   \n",
       "7                  4      distance    manhattan         0.640885   \n",
       "\n",
       "   rank_test_score  \n",
       "0                5  \n",
       "1                7  \n",
       "2                1  \n",
       "3                3  \n",
       "4                2  \n",
       "5                4  \n",
       "6                6  \n",
       "7                8  "
      ]
     },
     "execution_count": 13,
     "metadata": {},
     "output_type": "execute_result"
    }
   ],
   "source": [
    "knn_results = pd.DataFrame(knn.cv_results_)\n",
    "knn_results[['param_n_neighbors', 'param_weights', 'param_metric', 'mean_test_score', 'rank_test_score']]"
   ]
  },
  {
   "cell_type": "code",
   "execution_count": 14,
   "id": "4aca47d6",
   "metadata": {},
   "outputs": [
    {
     "data": {
      "text/plain": [
       "({'weights': 'uniform', 'n_neighbors': 4, 'metric': 'euclidean'},\n",
       " 0.701304347826087)"
      ]
     },
     "execution_count": 14,
     "metadata": {},
     "output_type": "execute_result"
    }
   ],
   "source": [
    "knn.best_params_, knn.best_score_"
   ]
  },
  {
   "cell_type": "markdown",
   "id": "cec42799",
   "metadata": {},
   "source": [
    "# 7. Apply `RandomizedSearchCV` in `Decision Tree Classifier`"
   ]
  },
  {
   "cell_type": "code",
   "execution_count": 15,
   "id": "295f2479",
   "metadata": {},
   "outputs": [
    {
     "data": {
      "text/plain": [
       "{'mean_fit_time': array([0.00171366, 0.00153446, 0.00166588, 0.0013639 , 0.0016531 ]),\n",
       " 'std_fit_time': array([1.03515581e-04, 5.37376649e-05, 5.49717763e-05, 2.83594265e-05,\n",
       "        3.74875897e-05]),\n",
       " 'mean_score_time': array([0.00083151, 0.00076351, 0.00072598, 0.00075421, 0.00072522]),\n",
       " 'std_score_time': array([2.57887360e-05, 2.29915629e-05, 4.76121365e-06, 1.51004624e-05,\n",
       "        1.11486118e-05]),\n",
       " 'param_max_depth': masked_array(data=[4, 4, 5, 3, 5],\n",
       "              mask=[False, False, False, False, False],\n",
       "        fill_value=999999),\n",
       " 'param_criterion': masked_array(data=['log_loss', 'gini', 'entropy', 'gini', 'log_loss'],\n",
       "              mask=[False, False, False, False, False],\n",
       "        fill_value='?',\n",
       "             dtype=object),\n",
       " 'params': [{'max_depth': 4, 'criterion': 'log_loss'},\n",
       "  {'max_depth': 4, 'criterion': 'gini'},\n",
       "  {'max_depth': 5, 'criterion': 'entropy'},\n",
       "  {'max_depth': 3, 'criterion': 'gini'},\n",
       "  {'max_depth': 5, 'criterion': 'log_loss'}],\n",
       " 'split0_test_score': array([0.70689655, 0.70689655, 0.65517241, 0.68965517, 0.65517241]),\n",
       " 'split1_test_score': array([0.69827586, 0.68965517, 0.69827586, 0.70689655, 0.69827586]),\n",
       " 'split2_test_score': array([0.69827586, 0.67241379, 0.68103448, 0.70689655, 0.68103448]),\n",
       " 'split3_test_score': array([0.71551724, 0.70689655, 0.60344828, 0.56896552, 0.60344828]),\n",
       " 'split4_test_score': array([0.71304348, 0.71304348, 0.69565217, 0.70434783, 0.69565217]),\n",
       " 'mean_test_score': array([0.7064018 , 0.69778111, 0.66671664, 0.67535232, 0.66671664]),\n",
       " 'std_test_score': array([0.0072043 , 0.01489063, 0.03514087, 0.05357899, 0.03514087]),\n",
       " 'rank_test_score': array([1, 2, 4, 3, 4], dtype=int32)}"
      ]
     },
     "execution_count": 15,
     "metadata": {},
     "output_type": "execute_result"
    }
   ],
   "source": [
    "dt = RandomizedSearchCV(estimator=DecisionTreeClassifier(random_state=42), param_distributions={\n",
    "    'criterion': ['gini', 'entropy', 'log_loss'],\n",
    "    'max_depth': [3, 4, 5]\n",
    "}, n_iter=5, cv=5, random_state=42)\n",
    "dt.fit(X, y)\n",
    "dt.cv_results_"
   ]
  },
  {
   "cell_type": "code",
   "execution_count": 16,
   "id": "fe915a28",
   "metadata": {},
   "outputs": [
    {
     "data": {
      "text/html": [
       "<div>\n",
       "<style scoped>\n",
       "    .dataframe tbody tr th:only-of-type {\n",
       "        vertical-align: middle;\n",
       "    }\n",
       "\n",
       "    .dataframe tbody tr th {\n",
       "        vertical-align: top;\n",
       "    }\n",
       "\n",
       "    .dataframe thead th {\n",
       "        text-align: right;\n",
       "    }\n",
       "</style>\n",
       "<table border=\"1\" class=\"dataframe\">\n",
       "  <thead>\n",
       "    <tr style=\"text-align: right;\">\n",
       "      <th></th>\n",
       "      <th>param_criterion</th>\n",
       "      <th>param_max_depth</th>\n",
       "      <th>mean_test_score</th>\n",
       "      <th>rank_test_score</th>\n",
       "    </tr>\n",
       "  </thead>\n",
       "  <tbody>\n",
       "    <tr>\n",
       "      <th>0</th>\n",
       "      <td>log_loss</td>\n",
       "      <td>4</td>\n",
       "      <td>0.706402</td>\n",
       "      <td>1</td>\n",
       "    </tr>\n",
       "    <tr>\n",
       "      <th>1</th>\n",
       "      <td>gini</td>\n",
       "      <td>4</td>\n",
       "      <td>0.697781</td>\n",
       "      <td>2</td>\n",
       "    </tr>\n",
       "    <tr>\n",
       "      <th>2</th>\n",
       "      <td>entropy</td>\n",
       "      <td>5</td>\n",
       "      <td>0.666717</td>\n",
       "      <td>4</td>\n",
       "    </tr>\n",
       "    <tr>\n",
       "      <th>3</th>\n",
       "      <td>gini</td>\n",
       "      <td>3</td>\n",
       "      <td>0.675352</td>\n",
       "      <td>3</td>\n",
       "    </tr>\n",
       "    <tr>\n",
       "      <th>4</th>\n",
       "      <td>log_loss</td>\n",
       "      <td>5</td>\n",
       "      <td>0.666717</td>\n",
       "      <td>4</td>\n",
       "    </tr>\n",
       "  </tbody>\n",
       "</table>\n",
       "</div>"
      ],
      "text/plain": [
       "  param_criterion  param_max_depth  mean_test_score  rank_test_score\n",
       "0        log_loss                4         0.706402                1\n",
       "1            gini                4         0.697781                2\n",
       "2         entropy                5         0.666717                4\n",
       "3            gini                3         0.675352                3\n",
       "4        log_loss                5         0.666717                4"
      ]
     },
     "execution_count": 16,
     "metadata": {},
     "output_type": "execute_result"
    }
   ],
   "source": [
    "dt_results = pd.DataFrame(dt.cv_results_)\n",
    "dt_results[['param_criterion', 'param_max_depth', 'mean_test_score', 'rank_test_score']]"
   ]
  },
  {
   "cell_type": "code",
   "execution_count": 17,
   "id": "8801cf98",
   "metadata": {},
   "outputs": [
    {
     "data": {
      "text/plain": [
       "({'max_depth': 4, 'criterion': 'log_loss'}, 0.7064017991004498)"
      ]
     },
     "execution_count": 17,
     "metadata": {},
     "output_type": "execute_result"
    }
   ],
   "source": [
    "dt.best_params_, dt.best_score_"
   ]
  },
  {
   "cell_type": "markdown",
   "id": "574ef825",
   "metadata": {},
   "source": [
    "# 8. Apply `RandomizedSearchCV` in all the models"
   ]
  },
  {
   "cell_type": "code",
   "execution_count": 18,
   "id": "3d14b157",
   "metadata": {},
   "outputs": [],
   "source": [
    "clfs = [RandomForestClassifier(random_state=42), KNeighborsClassifier(), DecisionTreeClassifier(random_state=42)]\n",
    "\n",
    "params_dict = {\n",
    "    'RF': {\n",
    "        'n_estimators': [2, 5, 10],\n",
    "        'criterion': ['gini', 'entropy', 'log_loss'],\n",
    "        'max_depth': [3, 4, 5]\n",
    "    },\n",
    "    'KNN': {\n",
    "        'n_neighbors': [3, 4, 5],\n",
    "        'weights': ['uniform', 'distance'],\n",
    "        'metric': ['minkowski', 'euclidean', 'manhattan']\n",
    "    },\n",
    "    'DT': {\n",
    "        'criterion': ['gini', 'entropy', 'log_loss'],\n",
    "        'max_depth': [3, 4, 5]\n",
    "    }\n",
    "}\n",
    "\n",
    "scores = []\n",
    "\n",
    "for clf, key, n in zip(clfs, params_dict.keys(), [15, 8, 5]):\n",
    "    rs = RandomizedSearchCV(estimator=clf, param_distributions=params_dict[key], n_iter=n, cv=5, random_state=42)\n",
    "    rs.fit(X, y)\n",
    "    scores.append({'selected_model': clf, 'best_score_obtained': rs.best_score_, 'best_params_obtained': rs.best_params_})"
   ]
  },
  {
   "cell_type": "code",
   "execution_count": 19,
   "id": "a169d0e7",
   "metadata": {},
   "outputs": [
    {
     "data": {
      "text/html": [
       "<div>\n",
       "<style scoped>\n",
       "    .dataframe tbody tr th:only-of-type {\n",
       "        vertical-align: middle;\n",
       "    }\n",
       "\n",
       "    .dataframe tbody tr th {\n",
       "        vertical-align: top;\n",
       "    }\n",
       "\n",
       "    .dataframe thead th {\n",
       "        text-align: right;\n",
       "    }\n",
       "</style>\n",
       "<table border=\"1\" class=\"dataframe\">\n",
       "  <thead>\n",
       "    <tr style=\"text-align: right;\">\n",
       "      <th></th>\n",
       "      <th>selected_model</th>\n",
       "      <th>best_score_obtained</th>\n",
       "      <th>best_params_obtained</th>\n",
       "    </tr>\n",
       "  </thead>\n",
       "  <tbody>\n",
       "    <tr>\n",
       "      <th>0</th>\n",
       "      <td>RandomForestClassifier(random_state=42)</td>\n",
       "      <td>0.718486</td>\n",
       "      <td>{'n_estimators': 10, 'max_depth': 3, 'criterion': 'gini'}</td>\n",
       "    </tr>\n",
       "    <tr>\n",
       "      <th>1</th>\n",
       "      <td>KNeighborsClassifier()</td>\n",
       "      <td>0.701304</td>\n",
       "      <td>{'weights': 'uniform', 'n_neighbors': 4, 'metric': 'euclidean'}</td>\n",
       "    </tr>\n",
       "    <tr>\n",
       "      <th>2</th>\n",
       "      <td>DecisionTreeClassifier(random_state=42)</td>\n",
       "      <td>0.706402</td>\n",
       "      <td>{'max_depth': 4, 'criterion': 'log_loss'}</td>\n",
       "    </tr>\n",
       "  </tbody>\n",
       "</table>\n",
       "</div>"
      ],
      "text/plain": [
       "                            selected_model  best_score_obtained  \\\n",
       "0  RandomForestClassifier(random_state=42)             0.718486   \n",
       "1                   KNeighborsClassifier()             0.701304   \n",
       "2  DecisionTreeClassifier(random_state=42)             0.706402   \n",
       "\n",
       "                                              best_params_obtained  \n",
       "0        {'n_estimators': 10, 'max_depth': 3, 'criterion': 'gini'}  \n",
       "1  {'weights': 'uniform', 'n_neighbors': 4, 'metric': 'euclidean'}  \n",
       "2                        {'max_depth': 4, 'criterion': 'log_loss'}  "
      ]
     },
     "execution_count": 19,
     "metadata": {},
     "output_type": "execute_result"
    }
   ],
   "source": [
    "pd.set_option('max_colwidth', None)\n",
    "best = pd.DataFrame(scores, columns=['selected_model', 'best_score_obtained', 'best_params_obtained'])\n",
    "best"
   ]
  },
  {
   "cell_type": "markdown",
   "id": "a1947ae7",
   "metadata": {},
   "source": [
    "# `Random Forest Classifier` is better than other two models."
   ]
  }
 ],
 "metadata": {
  "kernelspec": {
   "display_name": "Python 3 (ipykernel)",
   "language": "python",
   "name": "python3"
  },
  "language_info": {
   "codemirror_mode": {
    "name": "ipython",
    "version": 3
   },
   "file_extension": ".py",
   "mimetype": "text/x-python",
   "name": "python",
   "nbconvert_exporter": "python",
   "pygments_lexer": "ipython3",
   "version": "3.9.13"
  }
 },
 "nbformat": 4,
 "nbformat_minor": 5
}
