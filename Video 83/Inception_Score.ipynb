{
 "cells": [
  {
   "cell_type": "markdown",
   "id": "64911033",
   "metadata": {},
   "source": [
    "# <center style='color:deeppink'>Calculate `Inception Score (IS)` using PyTorch</center>"
   ]
  },
  {
   "cell_type": "markdown",
   "id": "35796c4e",
   "metadata": {},
   "source": [
    "# 1. Import required libraries"
   ]
  },
  {
   "cell_type": "code",
   "execution_count": 1,
   "id": "bde33d43",
   "metadata": {},
   "outputs": [
    {
     "name": "stdout",
     "output_type": "stream",
     "text": [
      "PyTorch version: 2.4.1+cu121\n",
      "Torchvision version: 0.19.1+cu121\n"
     ]
    }
   ],
   "source": [
    "import torch\n",
    "print('PyTorch version:', torch.__version__)\n",
    "from torch import nn\n",
    "import torch.nn.functional as F\n",
    "from torch.utils.data import DataLoader, Dataset\n",
    "\n",
    "import torchvision\n",
    "print('Torchvision version:', torchvision.__version__)\n",
    "from torchvision import datasets, transforms\n",
    "from torchvision import models\n",
    "from torchvision.models.inception import inception_v3\n",
    "\n",
    "import os\n",
    "import pathlib\n",
    "from PIL import Image \n",
    "import numpy as np\n",
    "from scipy.stats import entropy"
   ]
  },
  {
   "cell_type": "markdown",
   "id": "f6200bdd",
   "metadata": {},
   "source": [
    "# 2. Define `Inception` function"
   ]
  },
  {
   "cell_type": "code",
   "execution_count": 2,
   "id": "dac2e57f",
   "metadata": {},
   "outputs": [],
   "source": [
    "def calculate_inception_score(imgs, batch_size, resize, splits):\n",
    "    \n",
    "    N = len(imgs)\n",
    "    device = 'cuda' if torch.cuda.is_available() else 'cpu'\n",
    "    dataloader = DataLoader(imgs, batch_size=batch_size, shuffle=False)\n",
    "    \n",
    "    inception_model = inception_v3(weights=models.Inception_V3_Weights.DEFAULT, transform_input=False).to(device)\n",
    "    inception_model.eval()\n",
    "    up = nn.Upsample(size=(299, 299), mode='bilinear').to(device)\n",
    "    \n",
    "    def get_pred(x):\n",
    "        if resize:\n",
    "            x = up(x)\n",
    "        x = inception_model(x)\n",
    "        return F.softmax(x, dim=1).detach().cpu().numpy()\n",
    "    \n",
    "    # get predictions\n",
    "    preds = np.zeros((N, 1000))\n",
    "    \n",
    "    for i, j in enumerate(dataloader):\n",
    "        batch = j.to(device)\n",
    "        batch_size_i = batch.size()[0]\n",
    "        preds[i*batch_size:i*batch_size + batch_size_i] = get_pred(batch)\n",
    "        \n",
    "    # compute the mean kl-div\n",
    "    split_scores = []\n",
    "    \n",
    "    for k in range(splits):\n",
    "        part = preds[k * (N // splits): (k+1) * (N // splits), :]\n",
    "        py = np.mean(part, axis=0)\n",
    "        scores = []\n",
    "        for i in range(part.shape[0]):\n",
    "            pyx = part[i, :]\n",
    "            scores.append(entropy(pyx, py))\n",
    "        split_scores.append(np.exp(np.mean(scores)))\n",
    "        \n",
    "    return np.mean(split_scores)"
   ]
  },
  {
   "cell_type": "markdown",
   "id": "cb856e44",
   "metadata": {},
   "source": [
    "# 3. Define `ImagePathDataset` class"
   ]
  },
  {
   "cell_type": "code",
   "execution_count": 3,
   "id": "a7c0c87e",
   "metadata": {},
   "outputs": [],
   "source": [
    "class ImagePathDataset(Dataset):\n",
    "    def __init__(self, files, transform=None):\n",
    "        \n",
    "        self.files = files\n",
    "        self.transform = transform\n",
    "        \n",
    "    def __len__(self):\n",
    "        return len(self.files)\n",
    "    \n",
    "    def __getitem__(self, i):\n",
    "        path = self.files[i]\n",
    "        img = Image.open(path).convert('RGB')\n",
    "        if self.transform is not None:\n",
    "            img = self.transform(img)\n",
    "        return img"
   ]
  },
  {
   "cell_type": "markdown",
   "id": "924259af",
   "metadata": {},
   "source": [
    "# 4. Calculate `Inception Score`"
   ]
  },
  {
   "cell_type": "code",
   "execution_count": 4,
   "id": "3f7778ac",
   "metadata": {},
   "outputs": [],
   "source": [
    "IMAGE_EXTENSIONS = {'jpg'}"
   ]
  },
  {
   "cell_type": "code",
   "execution_count": 5,
   "id": "42b40bcf",
   "metadata": {},
   "outputs": [
    {
     "name": "stdout",
     "output_type": "stream",
     "text": [
      "Total images in gen_imgs_dir: 60000\n",
      "Inception Score (IS): 2.418\n",
      "CPU times: user 15min 26s, sys: 2.79 s, total: 15min 28s\n",
      "Wall time: 3min 56s\n"
     ]
    }
   ],
   "source": [
    "%%time\n",
    "\n",
    "gen_imgs_dir = os.getcwd() + '/gen'\n",
    "print('Total images in gen_imgs_dir:', len(next(os.walk(gen_imgs_dir))[2]))\n",
    "\n",
    "path = pathlib.Path(gen_imgs_dir)\n",
    "files = sorted([file for ext in IMAGE_EXTENSIONS for file in path.glob('*.{}'.format(ext))])\n",
    "\n",
    "dataset = ImagePathDataset(files, transform=transforms.ToTensor())\n",
    "print(\"Inception Score (IS):\", round(calculate_inception_score(dataset, batch_size=50, resize=True, splits=10), 3))"
   ]
  }
 ],
 "metadata": {
  "kernelspec": {
   "display_name": "Python 3 (ipykernel)",
   "language": "python",
   "name": "python3"
  },
  "language_info": {
   "codemirror_mode": {
    "name": "ipython",
    "version": 3
   },
   "file_extension": ".py",
   "mimetype": "text/x-python",
   "name": "python",
   "nbconvert_exporter": "python",
   "pygments_lexer": "ipython3",
   "version": "3.9.13"
  }
 },
 "nbformat": 4,
 "nbformat_minor": 5
}
